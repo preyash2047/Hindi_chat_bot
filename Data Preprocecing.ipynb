{
 "cells": [
  {
   "cell_type": "code",
   "execution_count": 2,
   "id": "400916bd",
   "metadata": {},
   "outputs": [],
   "source": [
    "from selenium import webdriver\n",
    "from bs4  import BeautifulSoup\n",
    "import time\n",
    "import csv\n",
    "import os\n",
    "import shutil\n",
    "import codecs"
   ]
  },
  {
   "cell_type": "code",
   "execution_count": 4,
   "id": "73750909",
   "metadata": {},
   "outputs": [],
   "source": [
    "data = r'C:\\Users\\preya\\Downloads\\Telegram Desktop\\ChatExport_2021-06-27'\n",
    "file_paths = []\n",
    "#loop to get append file_paths \n",
    "for root, directories, files in os.walk(data):\n",
    "    for filename in files:\n",
    "        if \".html\" in filename:\n",
    "            # Join the two strings in order to form the full filepath.\n",
    "            filepath = os.path.join(root, filename)\n",
    "            #to append\n",
    "            file_paths.append(filepath)"
   ]
  },
  {
   "cell_type": "code",
   "execution_count": 8,
   "id": "91722e03",
   "metadata": {},
   "outputs": [
    {
     "data": {
      "text/plain": [
       "'C:\\\\Users\\\\preya\\\\Downloads\\\\Telegram Desktop\\\\ChatExport_2021-06-27\\\\messages.html'"
      ]
     },
     "execution_count": 8,
     "metadata": {},
     "output_type": "execute_result"
    }
   ],
   "source": [
    "file_paths[0]"
   ]
  },
  {
   "cell_type": "code",
   "execution_count": 5,
   "id": "107098dd",
   "metadata": {},
   "outputs": [
    {
     "data": {
      "text/plain": [
       "['C:\\\\Users\\\\preya\\\\Downloads\\\\Telegram Desktop\\\\ChatExport_2021-06-27\\\\messages.html',\n",
       " 'C:\\\\Users\\\\preya\\\\Downloads\\\\Telegram Desktop\\\\ChatExport_2021-06-27\\\\messages2.html',\n",
       " 'C:\\\\Users\\\\preya\\\\Downloads\\\\Telegram Desktop\\\\ChatExport_2021-06-27\\\\messages3.html',\n",
       " 'C:\\\\Users\\\\preya\\\\Downloads\\\\Telegram Desktop\\\\ChatExport_2021-06-27\\\\messages4.html',\n",
       " 'C:\\\\Users\\\\preya\\\\Downloads\\\\Telegram Desktop\\\\ChatExport_2021-06-27\\\\messages5.html']"
      ]
     },
     "execution_count": 5,
     "metadata": {},
     "output_type": "execute_result"
    }
   ],
   "source": [
    "htmlData = \"\"\n",
    "for file in file_paths:\n",
    "    htmlData += codecs.open(file_paths[0], 'r', \"utf-8\").read() + \"<br></br>\""
   ]
  },
  {
   "cell_type": "code",
   "execution_count": null,
   "id": "8011e419",
   "metadata": {},
   "outputs": [],
   "source": [
    "\n",
    "    soup = BeautifulSoup(content)\n",
    "    #print(soup)\n",
    "    contents = soup.findAll('div',href=False, attrs={'class':'cmpN txtC bdr1'})\n",
    "    #print(len(contents))\n",
    "    #to find contact no\n",
    "    \n",
    "    with open(r''+filename+\".csv\", 'a') as f:\n",
    "        writer = csv.writer(f)    \n",
    "        for content in contents:\n",
    "            name = content.h2.text\n",
    "            #print(name)\n",
    "            c_number = soup.find('span',href=False, attrs={'class':'bo duet'}).text\n",
    "            #print(c_number)\n",
    "            fields = [name, c_number, url]\n",
    "            writer.writerow(fields)\n",
    "\n",
    "urlList = [\n",
    "        'https://www.indiamart.com/proddetail/designer-rakhi-22312717273.html', 'https://www.indiamart.com/proddetail/designer-rakhi-availble-wholesale-price-22364069648.html', 'https://www.indiamart.com/proddetail/rakhi-22349673462.html', 'https://www.indiamart.com/proddetail/rakhis-traditonal-22379477133.html', 'https://www.indiamart.com/proddetail/fancy-rakhi-19705470948.html', 'https://www.indiamart.com/proddetail/white-stone-dora-rakhi-12356048062.html', 'https://www.indiamart.com/proddetail/rakhi-22391740833.html', 'https://www.indiamart.com/proddetail/photo-print-fancy-rakhi-21167326055.html', 'https://www.indiamart.com/proddetail/designer-rakhi-availble-wholesale-price-22364064497.html', 'https://www.indiamart.com/proddetail/brother-and-sister-rakhi-22379467873.html', 'https://www.indiamart.com/proddetail/traditional-rakhi-22379457412.html', 'https://www.indiamart.com/proddetail/rakhi-thread-22409242273.html', 'https://www.indiamart.com/proddetail/card-rakhi-21995067788.html', 'https://www.indiamart.com/proddetail/dori-rakhi-flag-collection-20868464530.html', 'https://www.indiamart.com/proddetail/rakhi-dori-19182594533.html', 'https://dir.indiamart.com/impcat/rakhi.html', 'https://www.indiamart.com/proddetail/fancy-zari-rakhi-19841080788.html', 'https://www.indiamart.com/proddetail/handmade-designer-rakhi-14968913297.html', 'https://www.indiamart.com/proddetail/handmade-bougainvillea-rakhi-6115180433.html', 'https://www.indiamart.com/proddetail/rakhi-22349746548.html', 'https://www.indiamart.com/proddetail/rakhi-22373978962.html', 'https://www.indiamart.com/proddetail/diamond-rakhi-22379446873.html', 'https://www.indiamart.com/proddetail/rakhi-21674795430.html', 'https://www.indiamart.com/proddetail/rainbow-arts-rakhi-016-21062204762.html', 'https://www.indiamart.com/proddetail/designer-kids-rakhi-20546958873.html'\n",
    "        ]\n",
    "for i in range(len(urlList)):\n",
    "    filename = \"rakhi seller info\"\n",
    "    website(urlList[i],filename)\n",
    "    print(str(i) +\" done\")"
   ]
  }
 ],
 "metadata": {
  "kernelspec": {
   "display_name": "Python 3",
   "language": "python",
   "name": "python3"
  },
  "language_info": {
   "codemirror_mode": {
    "name": "ipython",
    "version": 3
   },
   "file_extension": ".py",
   "mimetype": "text/x-python",
   "name": "python",
   "nbconvert_exporter": "python",
   "pygments_lexer": "ipython3",
   "version": "3.8.8"
  }
 },
 "nbformat": 4,
 "nbformat_minor": 5
}
