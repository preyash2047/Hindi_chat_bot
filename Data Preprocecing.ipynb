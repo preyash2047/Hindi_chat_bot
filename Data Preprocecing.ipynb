{
 "cells": [
  {
   "cell_type": "code",
   "execution_count": 260,
   "id": "df8cc138",
   "metadata": {},
   "outputs": [],
   "source": [
    "from selenium import webdriver\n",
    "from bs4  import BeautifulSoup\n",
    "import time\n",
    "import csv\n",
    "import os\n",
    "import shutil\n",
    "import codecs\n",
    "import pandas as pd\n",
    "import numpy as np"
   ]
  },
  {
   "cell_type": "code",
   "execution_count": 261,
   "id": "b5423800",
   "metadata": {},
   "outputs": [],
   "source": [
    "data = r'C:\\Users\\preya\\Downloads\\Telegram Desktop\\ChatExport_2021-06-27 (1)'\n",
    "file_paths = []\n",
    "#loop to get append file_paths \n",
    "for root, directories, files in os.walk(data):\n",
    "    for filename in files:\n",
    "        if \".html\" in filename:\n",
    "            # Join the two strings in order to form the full filepath.\n",
    "            filepath = os.path.join(root, filename)\n",
    "            #to append\n",
    "            file_paths.append(filepath)"
   ]
  },
  {
   "cell_type": "code",
   "execution_count": 262,
   "id": "bf47ecad",
   "metadata": {},
   "outputs": [
    {
     "name": "stdout",
     "output_type": "stream",
     "text": [
      "4500\n"
     ]
    }
   ],
   "source": [
    "messages = []\n",
    "for file in file_paths:    \n",
    "    soup = BeautifulSoup(codecs.open(file, 'r', \"utf-8\").read())\n",
    "    messages.extend(soup.findAll('div', attrs={'class':'message default clearfix'}))\n",
    "    messages.extend(soup.findAll('div', attrs={'class':'message default clearfix joined'}))\n",
    "    \n",
    "print(len(contents))"
   ]
  },
  {
   "cell_type": "code",
   "execution_count": 263,
   "id": "640afb40",
   "metadata": {},
   "outputs": [],
   "source": [
    "current_ids, previous_ids, message_texts,message_statuses = [],[],[],[]\n",
    "\n",
    "for meg in messages:\n",
    "    current_id = meg.get(\"id\")[7:]\n",
    "    current_id = int(current_id)\n",
    "    \n",
    "    try:\n",
    "        previous_id = meg.find(\"div\", {\"class\":\"reply_to details\"}).a.get(\"href\")[14:]\n",
    "        previous_id = int(previous_id)\n",
    "    except:\n",
    "        previous_id = 0\n",
    "    \n",
    "    try:\n",
    "        message_text = meg.find(\"div\", {\"class\":\"description\"})\n",
    "        message_text = message_text.text.strip()\n",
    "    except:\n",
    "        try:\n",
    "            message_text = meg.find(\"div\", {\"class\":\"text\"})\n",
    "            message_text = message_text.text.strip()\n",
    "        except:\n",
    "            continue\n",
    "    \n",
    "    try:\n",
    "        message_status = meg.find(\"div\", {\"class\":\"status details\"})\n",
    "        message_status = message_status.text.strip().split(\",\")[0]\n",
    "    except:\n",
    "        message_status = None\n",
    "    \n",
    "    if \"Not included, change data exporting settings to download.\" not in message_text and \"/\" not in message_text and \"Try command /\" not in message_text:\n",
    "        current_ids.append(current_id)\n",
    "        previous_ids.append(previous_id)\n",
    "        message_texts.append(message_text)\n",
    "        message_statuses.append(message_status)"
   ]
  },
  {
   "cell_type": "code",
   "execution_count": 264,
   "id": "6bded8ee",
   "metadata": {},
   "outputs": [],
   "source": [
    "dataset = pd.DataFrame({\n",
    "    \"current_id\":current_ids,\n",
    "    \"previous_id\":previous_ids,\n",
    "    \"message_text\":message_texts,\n",
    "    \"message_status\":message_statuses\n",
    "    })"
   ]
  },
  {
   "cell_type": "code",
   "execution_count": 265,
   "id": "b35e2aae",
   "metadata": {},
   "outputs": [
    {
     "data": {
      "text/plain": [
       "current_id             0\n",
       "previous_id            0\n",
       "message_text           0\n",
       "message_status    413818\n",
       "dtype: int64"
      ]
     },
     "execution_count": 265,
     "metadata": {},
     "output_type": "execute_result"
    }
   ],
   "source": [
    "np.sum(dataset.isnull())"
   ]
  },
  {
   "cell_type": "code",
   "execution_count": 266,
   "id": "dce0eba0",
   "metadata": {},
   "outputs": [],
   "source": [
    "def readPreviousMain(currentID):\n",
    "    pm = dataset[dataset[\"previous_id\"] == currentID].iloc[:,2].values\n",
    "    pm = str(pm)\n",
    "\n",
    "    cm = dataset[dataset[\"current_id\"] == currentID].iloc[:,2].values\n",
    "    cm = str(cm)\n",
    "\n",
    "    print(\"Previous Message: \", pm)\n",
    "    print(\"Current Message: \", cm)"
   ]
  },
  {
   "cell_type": "code",
   "execution_count": 267,
   "id": "990a79e5",
   "metadata": {},
   "outputs": [
    {
     "name": "stdout",
     "output_type": "stream",
     "text": [
      "Previous Message:  []\n",
      "Current Message:  ['I m also free You got free from ?']\n"
     ]
    }
   ],
   "source": [
    "readPreviousMain(5500021)"
   ]
  },
  {
   "cell_type": "code",
   "execution_count": 268,
   "id": "5d1e08ab",
   "metadata": {},
   "outputs": [
    {
     "name": "stdout",
     "output_type": "stream",
     "text": [
      "Previous Message:  []\n",
      "Current Message:  ['Hi']\n"
     ]
    }
   ],
   "source": [
    "readPreviousMain(5500036)"
   ]
  },
  {
   "cell_type": "code",
   "execution_count": 269,
   "id": "991269b0",
   "metadata": {},
   "outputs": [
    {
     "name": "stdout",
     "output_type": "stream",
     "text": [
      "Previous Message:  ['Chhii Omg']\n",
      "Current Message:  ['Vo to funny hai sirf 😂🙈👀']\n"
     ]
    }
   ],
   "source": [
    "readPreviousMain(5500023)"
   ]
  },
  {
   "cell_type": "code",
   "execution_count": 270,
   "id": "0d8c5a04",
   "metadata": {},
   "outputs": [
    {
     "data": {
      "text/html": [
       "<div>\n",
       "<style scoped>\n",
       "    .dataframe tbody tr th:only-of-type {\n",
       "        vertical-align: middle;\n",
       "    }\n",
       "\n",
       "    .dataframe tbody tr th {\n",
       "        vertical-align: top;\n",
       "    }\n",
       "\n",
       "    .dataframe thead th {\n",
       "        text-align: right;\n",
       "    }\n",
       "</style>\n",
       "<table border=\"1\" class=\"dataframe\">\n",
       "  <thead>\n",
       "    <tr style=\"text-align: right;\">\n",
       "      <th></th>\n",
       "      <th>current_id</th>\n",
       "      <th>previous_id</th>\n",
       "      <th>message_text</th>\n",
       "      <th>message_status</th>\n",
       "    </tr>\n",
       "  </thead>\n",
       "  <tbody>\n",
       "    <tr>\n",
       "      <th>0</th>\n",
       "      <td>5500016</td>\n",
       "      <td>5491000</td>\n",
       "      <td>😂</td>\n",
       "      <td>None</td>\n",
       "    </tr>\n",
       "    <tr>\n",
       "      <th>1</th>\n",
       "      <td>5500021</td>\n",
       "      <td>5500000</td>\n",
       "      <td>I m also free You got free from ?</td>\n",
       "      <td>None</td>\n",
       "    </tr>\n",
       "    <tr>\n",
       "      <th>2</th>\n",
       "      <td>5500023</td>\n",
       "      <td>5500006</td>\n",
       "      <td>Vo to funny hai sirf 😂🙈👀</td>\n",
       "      <td>None</td>\n",
       "    </tr>\n",
       "    <tr>\n",
       "      <th>3</th>\n",
       "      <td>5500031</td>\n",
       "      <td>5494639</td>\n",
       "      <td>शुक्रिया</td>\n",
       "      <td>None</td>\n",
       "    </tr>\n",
       "    <tr>\n",
       "      <th>4</th>\n",
       "      <td>5500036</td>\n",
       "      <td>5499996</td>\n",
       "      <td>Hi</td>\n",
       "      <td>None</td>\n",
       "    </tr>\n",
       "    <tr>\n",
       "      <th>...</th>\n",
       "      <td>...</td>\n",
       "      <td>...</td>\n",
       "      <td>...</td>\n",
       "      <td>...</td>\n",
       "    </tr>\n",
       "    <tr>\n",
       "      <th>413828</th>\n",
       "      <td>5688350</td>\n",
       "      <td>0</td>\n",
       "      <td>Wbu?</td>\n",
       "      <td>None</td>\n",
       "    </tr>\n",
       "    <tr>\n",
       "      <th>413829</th>\n",
       "      <td>5688385</td>\n",
       "      <td>0</td>\n",
       "      <td>Koi hamse bhi baate Kar lo</td>\n",
       "      <td>None</td>\n",
       "    </tr>\n",
       "    <tr>\n",
       "      <th>413830</th>\n",
       "      <td>5688388</td>\n",
       "      <td>0</td>\n",
       "      <td>😂😂</td>\n",
       "      <td>None</td>\n",
       "    </tr>\n",
       "    <tr>\n",
       "      <th>413831</th>\n",
       "      <td>5688527</td>\n",
       "      <td>0</td>\n",
       "      <td>??</td>\n",
       "      <td>None</td>\n",
       "    </tr>\n",
       "    <tr>\n",
       "      <th>413832</th>\n",
       "      <td>5688654</td>\n",
       "      <td>5688619</td>\n",
       "      <td>Why😐✨</td>\n",
       "      <td>None</td>\n",
       "    </tr>\n",
       "  </tbody>\n",
       "</table>\n",
       "<p>413833 rows × 4 columns</p>\n",
       "</div>"
      ],
      "text/plain": [
       "        current_id  previous_id                       message_text  \\\n",
       "0          5500016      5491000                                  😂   \n",
       "1          5500021      5500000  I m also free You got free from ?   \n",
       "2          5500023      5500006           Vo to funny hai sirf 😂🙈👀   \n",
       "3          5500031      5494639                           शुक्रिया   \n",
       "4          5500036      5499996                                 Hi   \n",
       "...            ...          ...                                ...   \n",
       "413828     5688350            0                               Wbu?   \n",
       "413829     5688385            0         Koi hamse bhi baate Kar lo   \n",
       "413830     5688388            0                                 😂😂   \n",
       "413831     5688527            0                                 ??   \n",
       "413832     5688654      5688619                              Why😐✨   \n",
       "\n",
       "       message_status  \n",
       "0                None  \n",
       "1                None  \n",
       "2                None  \n",
       "3                None  \n",
       "4                None  \n",
       "...               ...  \n",
       "413828           None  \n",
       "413829           None  \n",
       "413830           None  \n",
       "413831           None  \n",
       "413832           None  \n",
       "\n",
       "[413833 rows x 4 columns]"
      ]
     },
     "execution_count": 270,
     "metadata": {},
     "output_type": "execute_result"
    }
   ],
   "source": [
    "dataset.to_csv(r'C:\\Users\\preya\\Downloads\\Telegram Desktop\\ChatExport_2021-06-27 (1)\\dataset.csv')"
   ]
  },
  {
   "cell_type": "code",
   "execution_count": 271,
   "id": "43ceefb0",
   "metadata": {},
   "outputs": [],
   "source": [
    "dataset.to_csv(r'C:\\Users\\preya\\Downloads\\Telegram Desktop\\ChatExport_2021-06-27 (1)\\dataset.csv')"
   ]
  },
  {
   "cell_type": "code",
   "execution_count": 273,
   "id": "c138e043",
   "metadata": {},
   "outputs": [
    {
     "data": {
      "text/html": [
       "<div>\n",
       "<style scoped>\n",
       "    .dataframe tbody tr th:only-of-type {\n",
       "        vertical-align: middle;\n",
       "    }\n",
       "\n",
       "    .dataframe tbody tr th {\n",
       "        vertical-align: top;\n",
       "    }\n",
       "\n",
       "    .dataframe thead th {\n",
       "        text-align: right;\n",
       "    }\n",
       "</style>\n",
       "<table border=\"1\" class=\"dataframe\">\n",
       "  <thead>\n",
       "    <tr style=\"text-align: right;\">\n",
       "      <th></th>\n",
       "      <th>current_id</th>\n",
       "      <th>previous_id</th>\n",
       "      <th>message_text</th>\n",
       "      <th>message_status</th>\n",
       "    </tr>\n",
       "  </thead>\n",
       "  <tbody>\n",
       "    <tr>\n",
       "      <th>0</th>\n",
       "      <td>5500016</td>\n",
       "      <td>5491000</td>\n",
       "      <td>😂</td>\n",
       "      <td>None</td>\n",
       "    </tr>\n",
       "    <tr>\n",
       "      <th>1</th>\n",
       "      <td>5500021</td>\n",
       "      <td>5500000</td>\n",
       "      <td>I m also free You got free from ?</td>\n",
       "      <td>None</td>\n",
       "    </tr>\n",
       "    <tr>\n",
       "      <th>2</th>\n",
       "      <td>5500023</td>\n",
       "      <td>5500006</td>\n",
       "      <td>Vo to funny hai sirf 😂🙈👀</td>\n",
       "      <td>None</td>\n",
       "    </tr>\n",
       "    <tr>\n",
       "      <th>3</th>\n",
       "      <td>5500031</td>\n",
       "      <td>5494639</td>\n",
       "      <td>शुक्रिया</td>\n",
       "      <td>None</td>\n",
       "    </tr>\n",
       "    <tr>\n",
       "      <th>4</th>\n",
       "      <td>5500036</td>\n",
       "      <td>5499996</td>\n",
       "      <td>Hi</td>\n",
       "      <td>None</td>\n",
       "    </tr>\n",
       "  </tbody>\n",
       "</table>\n",
       "</div>"
      ],
      "text/plain": [
       "   current_id  previous_id                       message_text message_status\n",
       "0     5500016      5491000                                  😂           None\n",
       "1     5500021      5500000  I m also free You got free from ?           None\n",
       "2     5500023      5500006           Vo to funny hai sirf 😂🙈👀           None\n",
       "3     5500031      5494639                           शुक्रिया           None\n",
       "4     5500036      5499996                                 Hi           None"
      ]
     },
     "execution_count": 273,
     "metadata": {},
     "output_type": "execute_result"
    }
   ],
   "source": [
    "dataset.head()"
   ]
  },
  {
   "cell_type": "code",
   "execution_count": null,
   "id": "ed791d04",
   "metadata": {},
   "outputs": [],
   "source": []
  },
  {
   "cell_type": "markdown",
   "id": "8f229dd7",
   "metadata": {},
   "source": [
    "DilogFlow"
   ]
  },
  {
   "cell_type": "code",
   "execution_count": 280,
   "id": "4b76f982",
   "metadata": {},
   "outputs": [],
   "source": [
    "def create_intent(project_id, display_name, training_phrases_parts, message_texts):\n",
    "    \"\"\"Create an intent of the given intent type.\"\"\"\n",
    "    from google.cloud import dialogflow\n",
    "\n",
    "    intents_client = dialogflow.IntentsClient()\n",
    "\n",
    "    parent = dialogflow.AgentsClient.agent_path(project_id)\n",
    "    training_phrases = []\n",
    "    for training_phrases_part in training_phrases_parts:\n",
    "        part = dialogflow.Intent.TrainingPhrase.Part(text=training_phrases_part)\n",
    "        # Here we create a new training phrase for each provided part.\n",
    "        training_phrase = dialogflow.Intent.TrainingPhrase(parts=[part])\n",
    "        training_phrases.append(training_phrase)\n",
    "\n",
    "    text = dialogflow.Intent.Message.Text(text=message_texts)\n",
    "    message = dialogflow.Intent.Message(text=text)\n",
    "\n",
    "    intent = dialogflow.Intent(\n",
    "        display_name=display_name, training_phrases=training_phrases, messages=[message]\n",
    "    )\n",
    "\n",
    "    response = intents_client.create_intent(\n",
    "        request={\"parent\": parent, \"intent\": intent}\n",
    "    )\n",
    "\n",
    "    print(\"Intent created: {}\".format(response))\n",
    "    \n",
    "\n",
    "os.environ[\"GOOGLE_APPLICATION_CREDENTIALS\"] = \"infigontest-c42031733dc3.json\""
   ]
  },
  {
   "cell_type": "code",
   "execution_count": 283,
   "id": "a743116b",
   "metadata": {},
   "outputs": [
    {
     "name": "stdout",
     "output_type": "stream",
     "text": [
      "Intent created: name: \"projects/infigontest/agent/intents/63edd982-c5de-4087-85d2-fe3b7d26c5cc\"\n",
      "display_name: \"infigonTest\"\n",
      "priority: 500000\n",
      "messages {\n",
      "  text {\n",
      "    text: \"M\"\n",
      "    text: \"y\"\n",
      "    text: \" \"\n",
      "    text: \"n\"\n",
      "    text: \"a\"\n",
      "    text: \"m\"\n",
      "    text: \"e\"\n",
      "    text: \" \"\n",
      "    text: \"i\"\n",
      "    text: \"s\"\n",
      "    text: \" \"\n",
      "    text: \"p\"\n",
      "    text: \"r\"\n",
      "    text: \"e\"\n",
      "    text: \"y\"\n",
      "    text: \"a\"\n",
      "    text: \"s\"\n",
      "    text: \"h\"\n",
      "  }\n",
      "}\n",
      "\n"
     ]
    }
   ],
   "source": [
    "training_phrases_parts = [\"what is your name?\", \"your name?\", \"whats your good name?\"]\n",
    "message_texts = \"My name is preyash\"\n",
    "create_intent(\n",
    "    project_id=\"infigontest\",\n",
    "    display_name=\"infigonTest\",\n",
    "    training_phrases_parts = training_phrases_parts,\n",
    "    message_texts = message_texts\n",
    ")"
   ]
  },
  {
   "cell_type": "code",
   "execution_count": null,
   "id": "970084fa",
   "metadata": {},
   "outputs": [],
   "source": []
  }
 ],
 "metadata": {
  "kernelspec": {
   "display_name": "Python 3",
   "language": "python",
   "name": "python3"
  },
  "language_info": {
   "codemirror_mode": {
    "name": "ipython",
    "version": 3
   },
   "file_extension": ".py",
   "mimetype": "text/x-python",
   "name": "python",
   "nbconvert_exporter": "python",
   "pygments_lexer": "ipython3",
   "version": "3.8.8"
  }
 },
 "nbformat": 4,
 "nbformat_minor": 5
}
