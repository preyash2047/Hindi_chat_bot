{
 "cells": [
  {
   "cell_type": "code",
   "execution_count": 260,
   "id": "ad86afec",
   "metadata": {},
   "outputs": [],
   "source": [
    "from selenium import webdriver\n",
    "from bs4  import BeautifulSoup\n",
    "import time\n",
    "import csv\n",
    "import os\n",
    "import shutil\n",
    "import codecs\n",
    "import pandas as pd\n",
    "import numpy as np"
   ]
  },
  {
   "cell_type": "code",
   "execution_count": 261,
   "id": "0a18b09c",
   "metadata": {},
   "outputs": [],
   "source": [
    "data = r'C:\\Users\\preya\\Downloads\\Telegram Desktop\\ChatExport_2021-06-27 (1)'\n",
    "file_paths = []\n",
    "#loop to get append file_paths \n",
    "for root, directories, files in os.walk(data):\n",
    "    for filename in files:\n",
    "        if \".html\" in filename:\n",
    "            # Join the two strings in order to form the full filepath.\n",
    "            filepath = os.path.join(root, filename)\n",
    "            #to append\n",
    "            file_paths.append(filepath)"
   ]
  },
  {
   "cell_type": "code",
   "execution_count": 262,
   "id": "bbe959e1",
   "metadata": {},
   "outputs": [
    {
     "name": "stdout",
     "output_type": "stream",
     "text": [
      "4500\n"
     ]
    }
   ],
   "source": [
    "messages = []\n",
    "for file in file_paths:    \n",
    "    soup = BeautifulSoup(codecs.open(file, 'r', \"utf-8\").read())\n",
    "    messages.extend(soup.findAll('div', attrs={'class':'message default clearfix'}))\n",
    "    messages.extend(soup.findAll('div', attrs={'class':'message default clearfix joined'}))\n",
    "    \n",
    "print(len(contents))"
   ]
  },
  {
   "cell_type": "code",
   "execution_count": 263,
   "id": "d36c7fe7",
   "metadata": {},
   "outputs": [],
   "source": [
    "current_ids, previous_ids, message_texts,message_statuses = [],[],[],[]\n",
    "\n",
    "for meg in messages:\n",
    "    current_id = meg.get(\"id\")[7:]\n",
    "    current_id = int(current_id)\n",
    "    \n",
    "    try:\n",
    "        previous_id = meg.find(\"div\", {\"class\":\"reply_to details\"}).a.get(\"href\")[14:]\n",
    "        previous_id = int(previous_id)\n",
    "    except:\n",
    "        previous_id = 0\n",
    "    \n",
    "    try:\n",
    "        message_text = meg.find(\"div\", {\"class\":\"description\"})\n",
    "        message_text = message_text.text.strip()\n",
    "    except:\n",
    "        try:\n",
    "            message_text = meg.find(\"div\", {\"class\":\"text\"})\n",
    "            message_text = message_text.text.strip()\n",
    "        except:\n",
    "            continue\n",
    "    \n",
    "    try:\n",
    "        message_status = meg.find(\"div\", {\"class\":\"status details\"})\n",
    "        message_status = message_status.text.strip().split(\",\")[0]\n",
    "    except:\n",
    "        message_status = None\n",
    "    \n",
    "    if \"Not included, change data exporting settings to download.\" not in message_text and \"/\" not in message_text and \"Try command /\" not in message_text:\n",
    "        current_ids.append(current_id)\n",
    "        previous_ids.append(previous_id)\n",
    "        message_texts.append(message_text)\n",
    "        message_statuses.append(message_status)"
   ]
  },
  {
   "cell_type": "code",
   "execution_count": 264,
   "id": "70b57a44",
   "metadata": {},
   "outputs": [],
   "source": [
    "dataset = pd.DataFrame({\n",
    "    \"current_id\":current_ids,\n",
    "    \"previous_id\":previous_ids,\n",
    "    \"message_text\":message_texts,\n",
    "    \"message_status\":message_statuses\n",
    "    })"
   ]
  },
  {
   "cell_type": "code",
   "execution_count": 265,
   "id": "aabcc3ee",
   "metadata": {},
   "outputs": [
    {
     "data": {
      "text/plain": [
       "current_id             0\n",
       "previous_id            0\n",
       "message_text           0\n",
       "message_status    413818\n",
       "dtype: int64"
      ]
     },
     "execution_count": 265,
     "metadata": {},
     "output_type": "execute_result"
    }
   ],
   "source": [
    "np.sum(dataset.isnull())"
   ]
  },
  {
   "cell_type": "code",
   "execution_count": 266,
   "id": "907be443",
   "metadata": {},
   "outputs": [],
   "source": [
    "def readPreviousMain(currentID):\n",
    "    pm = dataset[dataset[\"previous_id\"] == currentID].iloc[:,2].values\n",
    "    pm = str(pm)\n",
    "\n",
    "    cm = dataset[dataset[\"current_id\"] == currentID].iloc[:,2].values\n",
    "    cm = str(cm)\n",
    "\n",
    "    print(\"Previous Message: \", pm)\n",
    "    print(\"Current Message: \", cm)"
   ]
  },
  {
   "cell_type": "code",
   "execution_count": 267,
   "id": "9f2ae6b4",
   "metadata": {},
   "outputs": [
    {
     "name": "stdout",
     "output_type": "stream",
     "text": [
      "Previous Message:  []\n",
      "Current Message:  ['I m also free You got free from ?']\n"
     ]
    }
   ],
   "source": [
    "readPreviousMain(5500021)"
   ]
  },
  {
   "cell_type": "code",
   "execution_count": 268,
   "id": "d11c2487",
   "metadata": {},
   "outputs": [
    {
     "name": "stdout",
     "output_type": "stream",
     "text": [
      "Previous Message:  []\n",
      "Current Message:  ['Hi']\n"
     ]
    }
   ],
   "source": [
    "readPreviousMain(5500036)"
   ]
  },
  {
   "cell_type": "code",
   "execution_count": 269,
   "id": "1ef40e74",
   "metadata": {},
   "outputs": [
    {
     "name": "stdout",
     "output_type": "stream",
     "text": [
      "Previous Message:  ['Chhii Omg']\n",
      "Current Message:  ['Vo to funny hai sirf 😂🙈👀']\n"
     ]
    }
   ],
   "source": [
    "readPreviousMain(5500023)"
   ]
  },
  {
   "cell_type": "code",
   "execution_count": 270,
   "id": "125158ca",
   "metadata": {},
   "outputs": [
    {
     "data": {
      "text/html": [
       "<div>\n",
       "<style scoped>\n",
       "    .dataframe tbody tr th:only-of-type {\n",
       "        vertical-align: middle;\n",
       "    }\n",
       "\n",
       "    .dataframe tbody tr th {\n",
       "        vertical-align: top;\n",
       "    }\n",
       "\n",
       "    .dataframe thead th {\n",
       "        text-align: right;\n",
       "    }\n",
       "</style>\n",
       "<table border=\"1\" class=\"dataframe\">\n",
       "  <thead>\n",
       "    <tr style=\"text-align: right;\">\n",
       "      <th></th>\n",
       "      <th>current_id</th>\n",
       "      <th>previous_id</th>\n",
       "      <th>message_text</th>\n",
       "      <th>message_status</th>\n",
       "    </tr>\n",
       "  </thead>\n",
       "  <tbody>\n",
       "    <tr>\n",
       "      <th>0</th>\n",
       "      <td>5500016</td>\n",
       "      <td>5491000</td>\n",
       "      <td>😂</td>\n",
       "      <td>None</td>\n",
       "    </tr>\n",
       "    <tr>\n",
       "      <th>1</th>\n",
       "      <td>5500021</td>\n",
       "      <td>5500000</td>\n",
       "      <td>I m also free You got free from ?</td>\n",
       "      <td>None</td>\n",
       "    </tr>\n",
       "    <tr>\n",
       "      <th>2</th>\n",
       "      <td>5500023</td>\n",
       "      <td>5500006</td>\n",
       "      <td>Vo to funny hai sirf 😂🙈👀</td>\n",
       "      <td>None</td>\n",
       "    </tr>\n",
       "    <tr>\n",
       "      <th>3</th>\n",
       "      <td>5500031</td>\n",
       "      <td>5494639</td>\n",
       "      <td>शुक्रिया</td>\n",
       "      <td>None</td>\n",
       "    </tr>\n",
       "    <tr>\n",
       "      <th>4</th>\n",
       "      <td>5500036</td>\n",
       "      <td>5499996</td>\n",
       "      <td>Hi</td>\n",
       "      <td>None</td>\n",
       "    </tr>\n",
       "    <tr>\n",
       "      <th>...</th>\n",
       "      <td>...</td>\n",
       "      <td>...</td>\n",
       "      <td>...</td>\n",
       "      <td>...</td>\n",
       "    </tr>\n",
       "    <tr>\n",
       "      <th>413828</th>\n",
       "      <td>5688350</td>\n",
       "      <td>0</td>\n",
       "      <td>Wbu?</td>\n",
       "      <td>None</td>\n",
       "    </tr>\n",
       "    <tr>\n",
       "      <th>413829</th>\n",
       "      <td>5688385</td>\n",
       "      <td>0</td>\n",
       "      <td>Koi hamse bhi baate Kar lo</td>\n",
       "      <td>None</td>\n",
       "    </tr>\n",
       "    <tr>\n",
       "      <th>413830</th>\n",
       "      <td>5688388</td>\n",
       "      <td>0</td>\n",
       "      <td>😂😂</td>\n",
       "      <td>None</td>\n",
       "    </tr>\n",
       "    <tr>\n",
       "      <th>413831</th>\n",
       "      <td>5688527</td>\n",
       "      <td>0</td>\n",
       "      <td>??</td>\n",
       "      <td>None</td>\n",
       "    </tr>\n",
       "    <tr>\n",
       "      <th>413832</th>\n",
       "      <td>5688654</td>\n",
       "      <td>5688619</td>\n",
       "      <td>Why😐✨</td>\n",
       "      <td>None</td>\n",
       "    </tr>\n",
       "  </tbody>\n",
       "</table>\n",
       "<p>413833 rows × 4 columns</p>\n",
       "</div>"
      ],
      "text/plain": [
       "        current_id  previous_id                       message_text  \\\n",
       "0          5500016      5491000                                  😂   \n",
       "1          5500021      5500000  I m also free You got free from ?   \n",
       "2          5500023      5500006           Vo to funny hai sirf 😂🙈👀   \n",
       "3          5500031      5494639                           शुक्रिया   \n",
       "4          5500036      5499996                                 Hi   \n",
       "...            ...          ...                                ...   \n",
       "413828     5688350            0                               Wbu?   \n",
       "413829     5688385            0         Koi hamse bhi baate Kar lo   \n",
       "413830     5688388            0                                 😂😂   \n",
       "413831     5688527            0                                 ??   \n",
       "413832     5688654      5688619                              Why😐✨   \n",
       "\n",
       "       message_status  \n",
       "0                None  \n",
       "1                None  \n",
       "2                None  \n",
       "3                None  \n",
       "4                None  \n",
       "...               ...  \n",
       "413828           None  \n",
       "413829           None  \n",
       "413830           None  \n",
       "413831           None  \n",
       "413832           None  \n",
       "\n",
       "[413833 rows x 4 columns]"
      ]
     },
     "execution_count": 270,
     "metadata": {},
     "output_type": "execute_result"
    }
   ],
   "source": [
    "dataset.to_csv(r'C:\\Users\\preya\\Downloads\\Telegram Desktop\\ChatExport_2021-06-27 (1)\\dataset.csv')"
   ]
  },
  {
   "cell_type": "code",
   "execution_count": 271,
   "id": "15d79990",
   "metadata": {},
   "outputs": [],
   "source": [
    "dataset.to_csv(r'C:\\Users\\preya\\Downloads\\Telegram Desktop\\ChatExport_2021-06-27 (1)\\dataset.csv')"
   ]
  },
  {
   "cell_type": "code",
   "execution_count": 273,
   "id": "f32adf28",
   "metadata": {},
   "outputs": [
    {
     "data": {
      "text/html": [
       "<div>\n",
       "<style scoped>\n",
       "    .dataframe tbody tr th:only-of-type {\n",
       "        vertical-align: middle;\n",
       "    }\n",
       "\n",
       "    .dataframe tbody tr th {\n",
       "        vertical-align: top;\n",
       "    }\n",
       "\n",
       "    .dataframe thead th {\n",
       "        text-align: right;\n",
       "    }\n",
       "</style>\n",
       "<table border=\"1\" class=\"dataframe\">\n",
       "  <thead>\n",
       "    <tr style=\"text-align: right;\">\n",
       "      <th></th>\n",
       "      <th>current_id</th>\n",
       "      <th>previous_id</th>\n",
       "      <th>message_text</th>\n",
       "      <th>message_status</th>\n",
       "    </tr>\n",
       "  </thead>\n",
       "  <tbody>\n",
       "    <tr>\n",
       "      <th>0</th>\n",
       "      <td>5500016</td>\n",
       "      <td>5491000</td>\n",
       "      <td>😂</td>\n",
       "      <td>None</td>\n",
       "    </tr>\n",
       "    <tr>\n",
       "      <th>1</th>\n",
       "      <td>5500021</td>\n",
       "      <td>5500000</td>\n",
       "      <td>I m also free You got free from ?</td>\n",
       "      <td>None</td>\n",
       "    </tr>\n",
       "    <tr>\n",
       "      <th>2</th>\n",
       "      <td>5500023</td>\n",
       "      <td>5500006</td>\n",
       "      <td>Vo to funny hai sirf 😂🙈👀</td>\n",
       "      <td>None</td>\n",
       "    </tr>\n",
       "    <tr>\n",
       "      <th>3</th>\n",
       "      <td>5500031</td>\n",
       "      <td>5494639</td>\n",
       "      <td>शुक्रिया</td>\n",
       "      <td>None</td>\n",
       "    </tr>\n",
       "    <tr>\n",
       "      <th>4</th>\n",
       "      <td>5500036</td>\n",
       "      <td>5499996</td>\n",
       "      <td>Hi</td>\n",
       "      <td>None</td>\n",
       "    </tr>\n",
       "  </tbody>\n",
       "</table>\n",
       "</div>"
      ],
      "text/plain": [
       "   current_id  previous_id                       message_text message_status\n",
       "0     5500016      5491000                                  😂           None\n",
       "1     5500021      5500000  I m also free You got free from ?           None\n",
       "2     5500023      5500006           Vo to funny hai sirf 😂🙈👀           None\n",
       "3     5500031      5494639                           शुक्रिया           None\n",
       "4     5500036      5499996                                 Hi           None"
      ]
     },
     "execution_count": 273,
     "metadata": {},
     "output_type": "execute_result"
    }
   ],
   "source": [
    "dataset.head()"
   ]
  },
  {
   "cell_type": "code",
   "execution_count": null,
   "id": "a4345558",
   "metadata": {},
   "outputs": [],
   "source": []
  },
  {
   "cell_type": "markdown",
   "id": "4c2ddc24",
   "metadata": {},
   "source": [
    "DilogFlow"
   ]
  },
  {
   "cell_type": "code",
   "execution_count": 278,
   "id": "591672dc",
   "metadata": {},
   "outputs": [],
   "source": [
    "def create_intent(project_id, display_name, training_phrases_parts, message_texts):\n",
    "    \"\"\"Create an intent of the given intent type.\"\"\"\n",
    "    from google.cloud import dialogflow\n",
    "\n",
    "    intents_client = dialogflow.IntentsClient()\n",
    "\n",
    "    parent = dialogflow.AgentsClient.agent_path(project_id)\n",
    "    training_phrases = []\n",
    "    for training_phrases_part in training_phrases_parts:\n",
    "        part = dialogflow.Intent.TrainingPhrase.Part(text=training_phrases_part)\n",
    "        # Here we create a new training phrase for each provided part.\n",
    "        training_phrase = dialogflow.Intent.TrainingPhrase(parts=[part])\n",
    "        training_phrases.append(training_phrase)\n",
    "\n",
    "    text = dialogflow.Intent.Message.Text(text=message_texts)\n",
    "    message = dialogflow.Intent.Message(text=text)\n",
    "\n",
    "    intent = dialogflow.Intent(\n",
    "        display_name=display_name, training_phrases=training_phrases, messages=[message]\n",
    "    )\n",
    "\n",
    "    response = intents_client.create_intent(\n",
    "        request={\"parent\": parent, \"intent\": intent}\n",
    "    )\n",
    "\n",
    "    print(\"Intent created: {}\".format(response))"
   ]
  },
  {
   "cell_type": "code",
   "execution_count": 279,
   "id": "6531fe0c",
   "metadata": {},
   "outputs": [
    {
     "ename": "DefaultCredentialsError",
     "evalue": "Could not automatically determine credentials. Please set GOOGLE_APPLICATION_CREDENTIALS or explicitly create credentials and re-run the application. For more information, please see https://cloud.google.com/docs/authentication/getting-started",
     "output_type": "error",
     "traceback": [
      "\u001b[1;31m---------------------------------------------------------------------------\u001b[0m",
      "\u001b[1;31mDefaultCredentialsError\u001b[0m                   Traceback (most recent call last)",
      "\u001b[1;32m<ipython-input-279-6fd99b1348e1>\u001b[0m in \u001b[0;36m<module>\u001b[1;34m\u001b[0m\n\u001b[0;32m      1\u001b[0m \u001b[0mtraining_phrases_parts\u001b[0m \u001b[1;33m=\u001b[0m \u001b[1;33m[\u001b[0m\u001b[1;34m\"what is your name?\"\u001b[0m\u001b[1;33m,\u001b[0m \u001b[1;34m\"your name?\"\u001b[0m\u001b[1;33m,\u001b[0m \u001b[1;34m\"whats your good name?\"\u001b[0m\u001b[1;33m]\u001b[0m\u001b[1;33m\u001b[0m\u001b[1;33m\u001b[0m\u001b[0m\n\u001b[0;32m      2\u001b[0m \u001b[0mmessage_texts\u001b[0m \u001b[1;33m=\u001b[0m \u001b[1;34m\"My name is preyash\"\u001b[0m\u001b[1;33m\u001b[0m\u001b[1;33m\u001b[0m\u001b[0m\n\u001b[1;32m----> 3\u001b[1;33m create_intent(\n\u001b[0m\u001b[0;32m      4\u001b[0m     \u001b[0mproject_id\u001b[0m\u001b[1;33m=\u001b[0m\u001b[1;34m\"infigontest\"\u001b[0m\u001b[1;33m,\u001b[0m\u001b[1;33m\u001b[0m\u001b[1;33m\u001b[0m\u001b[0m\n\u001b[0;32m      5\u001b[0m     \u001b[0mdisplay_name\u001b[0m\u001b[1;33m=\u001b[0m\u001b[1;34m\"infigonTest\"\u001b[0m\u001b[1;33m,\u001b[0m\u001b[1;33m\u001b[0m\u001b[1;33m\u001b[0m\u001b[0m\n",
      "\u001b[1;32m<ipython-input-278-7c6656df7b2a>\u001b[0m in \u001b[0;36mcreate_intent\u001b[1;34m(project_id, display_name, training_phrases_parts, message_texts)\u001b[0m\n\u001b[0;32m      3\u001b[0m     \u001b[1;32mfrom\u001b[0m \u001b[0mgoogle\u001b[0m\u001b[1;33m.\u001b[0m\u001b[0mcloud\u001b[0m \u001b[1;32mimport\u001b[0m \u001b[0mdialogflow\u001b[0m\u001b[1;33m\u001b[0m\u001b[1;33m\u001b[0m\u001b[0m\n\u001b[0;32m      4\u001b[0m \u001b[1;33m\u001b[0m\u001b[0m\n\u001b[1;32m----> 5\u001b[1;33m     \u001b[0mintents_client\u001b[0m \u001b[1;33m=\u001b[0m \u001b[0mdialogflow\u001b[0m\u001b[1;33m.\u001b[0m\u001b[0mIntentsClient\u001b[0m\u001b[1;33m(\u001b[0m\u001b[1;33m)\u001b[0m\u001b[1;33m\u001b[0m\u001b[1;33m\u001b[0m\u001b[0m\n\u001b[0m\u001b[0;32m      6\u001b[0m \u001b[1;33m\u001b[0m\u001b[0m\n\u001b[0;32m      7\u001b[0m     \u001b[0mparent\u001b[0m \u001b[1;33m=\u001b[0m \u001b[0mdialogflow\u001b[0m\u001b[1;33m.\u001b[0m\u001b[0mAgentsClient\u001b[0m\u001b[1;33m.\u001b[0m\u001b[0magent_path\u001b[0m\u001b[1;33m(\u001b[0m\u001b[0mproject_id\u001b[0m\u001b[1;33m)\u001b[0m\u001b[1;33m\u001b[0m\u001b[1;33m\u001b[0m\u001b[0m\n",
      "\u001b[1;32mC:\\ProgramData\\Anaconda3\\lib\\site-packages\\google\\cloud\\dialogflow_v2\\services\\intents\\client.py\u001b[0m in \u001b[0;36m__init__\u001b[1;34m(self, credentials, transport, client_options, client_info)\u001b[0m\n\u001b[0;32m    355\u001b[0m         \u001b[1;32melse\u001b[0m\u001b[1;33m:\u001b[0m\u001b[1;33m\u001b[0m\u001b[1;33m\u001b[0m\u001b[0m\n\u001b[0;32m    356\u001b[0m             \u001b[0mTransport\u001b[0m \u001b[1;33m=\u001b[0m \u001b[0mtype\u001b[0m\u001b[1;33m(\u001b[0m\u001b[0mself\u001b[0m\u001b[1;33m)\u001b[0m\u001b[1;33m.\u001b[0m\u001b[0mget_transport_class\u001b[0m\u001b[1;33m(\u001b[0m\u001b[0mtransport\u001b[0m\u001b[1;33m)\u001b[0m\u001b[1;33m\u001b[0m\u001b[1;33m\u001b[0m\u001b[0m\n\u001b[1;32m--> 357\u001b[1;33m             self._transport = Transport(\n\u001b[0m\u001b[0;32m    358\u001b[0m                 \u001b[0mcredentials\u001b[0m\u001b[1;33m=\u001b[0m\u001b[0mcredentials\u001b[0m\u001b[1;33m,\u001b[0m\u001b[1;33m\u001b[0m\u001b[1;33m\u001b[0m\u001b[0m\n\u001b[0;32m    359\u001b[0m                 \u001b[0mcredentials_file\u001b[0m\u001b[1;33m=\u001b[0m\u001b[0mclient_options\u001b[0m\u001b[1;33m.\u001b[0m\u001b[0mcredentials_file\u001b[0m\u001b[1;33m,\u001b[0m\u001b[1;33m\u001b[0m\u001b[1;33m\u001b[0m\u001b[0m\n",
      "\u001b[1;32mC:\\ProgramData\\Anaconda3\\lib\\site-packages\\google\\cloud\\dialogflow_v2\\services\\intents\\transports\\grpc.py\u001b[0m in \u001b[0;36m__init__\u001b[1;34m(self, host, credentials, credentials_file, scopes, channel, api_mtls_endpoint, client_cert_source, ssl_channel_credentials, client_cert_source_for_mtls, quota_project_id, client_info)\u001b[0m\n\u001b[0;32m    148\u001b[0m \u001b[1;33m\u001b[0m\u001b[0m\n\u001b[0;32m    149\u001b[0m         \u001b[1;31m# The base transport sets the host, credentials and scopes\u001b[0m\u001b[1;33m\u001b[0m\u001b[1;33m\u001b[0m\u001b[1;33m\u001b[0m\u001b[0m\n\u001b[1;32m--> 150\u001b[1;33m         super().__init__(\n\u001b[0m\u001b[0;32m    151\u001b[0m             \u001b[0mhost\u001b[0m\u001b[1;33m=\u001b[0m\u001b[0mhost\u001b[0m\u001b[1;33m,\u001b[0m\u001b[1;33m\u001b[0m\u001b[1;33m\u001b[0m\u001b[0m\n\u001b[0;32m    152\u001b[0m             \u001b[0mcredentials\u001b[0m\u001b[1;33m=\u001b[0m\u001b[0mcredentials\u001b[0m\u001b[1;33m,\u001b[0m\u001b[1;33m\u001b[0m\u001b[1;33m\u001b[0m\u001b[0m\n",
      "\u001b[1;32mC:\\ProgramData\\Anaconda3\\lib\\site-packages\\google\\cloud\\dialogflow_v2\\services\\intents\\transports\\base.py\u001b[0m in \u001b[0;36m__init__\u001b[1;34m(self, host, credentials, credentials_file, scopes, quota_project_id, client_info, **kwargs)\u001b[0m\n\u001b[0;32m    119\u001b[0m \u001b[1;33m\u001b[0m\u001b[0m\n\u001b[0;32m    120\u001b[0m         \u001b[1;32melif\u001b[0m \u001b[0mcredentials\u001b[0m \u001b[1;32mis\u001b[0m \u001b[1;32mNone\u001b[0m\u001b[1;33m:\u001b[0m\u001b[1;33m\u001b[0m\u001b[1;33m\u001b[0m\u001b[0m\n\u001b[1;32m--> 121\u001b[1;33m             credentials, _ = google.auth.default(\n\u001b[0m\u001b[0;32m    122\u001b[0m                 \u001b[1;33m**\u001b[0m\u001b[0mscopes_kwargs\u001b[0m\u001b[1;33m,\u001b[0m \u001b[0mquota_project_id\u001b[0m\u001b[1;33m=\u001b[0m\u001b[0mquota_project_id\u001b[0m\u001b[1;33m\u001b[0m\u001b[1;33m\u001b[0m\u001b[0m\n\u001b[0;32m    123\u001b[0m             )\n",
      "\u001b[1;32mC:\\ProgramData\\Anaconda3\\lib\\site-packages\\google\\auth\\_default.py\u001b[0m in \u001b[0;36mdefault\u001b[1;34m(scopes, request, quota_project_id, default_scopes)\u001b[0m\n\u001b[0;32m    481\u001b[0m             \u001b[1;32mreturn\u001b[0m \u001b[0mcredentials\u001b[0m\u001b[1;33m,\u001b[0m \u001b[0meffective_project_id\u001b[0m\u001b[1;33m\u001b[0m\u001b[1;33m\u001b[0m\u001b[0m\n\u001b[0;32m    482\u001b[0m \u001b[1;33m\u001b[0m\u001b[0m\n\u001b[1;32m--> 483\u001b[1;33m     \u001b[1;32mraise\u001b[0m \u001b[0mexceptions\u001b[0m\u001b[1;33m.\u001b[0m\u001b[0mDefaultCredentialsError\u001b[0m\u001b[1;33m(\u001b[0m\u001b[0m_HELP_MESSAGE\u001b[0m\u001b[1;33m)\u001b[0m\u001b[1;33m\u001b[0m\u001b[1;33m\u001b[0m\u001b[0m\n\u001b[0m",
      "\u001b[1;31mDefaultCredentialsError\u001b[0m: Could not automatically determine credentials. Please set GOOGLE_APPLICATION_CREDENTIALS or explicitly create credentials and re-run the application. For more information, please see https://cloud.google.com/docs/authentication/getting-started"
     ]
    }
   ],
   "source": [
    "training_phrases_parts = [\"what is your name?\", \"your name?\", \"whats your good name?\"]\n",
    "message_texts = \"My name is preyash\"\n",
    "create_intent(\n",
    "    project_id=\"infigontest\",\n",
    "    display_name=\"infigonTest\",\n",
    "    training_phrases_parts = training_phrases_parts,\n",
    "    message_texts = message_texts\n",
    ")"
   ]
  },
  {
   "cell_type": "code",
   "execution_count": null,
   "id": "990f8421",
   "metadata": {},
   "outputs": [],
   "source": []
  }
 ],
 "metadata": {
  "kernelspec": {
   "display_name": "Python 3",
   "language": "python",
   "name": "python3"
  },
  "language_info": {
   "codemirror_mode": {
    "name": "ipython",
    "version": 3
   },
   "file_extension": ".py",
   "mimetype": "text/x-python",
   "name": "python",
   "nbconvert_exporter": "python",
   "pygments_lexer": "ipython3",
   "version": "3.8.8"
  }
 },
 "nbformat": 4,
 "nbformat_minor": 5
}
