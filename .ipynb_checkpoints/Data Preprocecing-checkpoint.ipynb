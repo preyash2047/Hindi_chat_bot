{
 "cells": [
  {
   "cell_type": "code",
   "execution_count": null,
   "id": "f24eda7a",
   "metadata": {},
   "outputs": [],
   "source": [
    "from selenium import webdriver\n",
    "from bs4  import BeautifulSoup\n",
    "import time\n",
    "import csv\n",
    "import os\n",
    "import shutil\n",
    "import codecs\n",
    "import pandas as pd\n",
    "import numpy as np\n",
    "import random"
   ]
  },
  {
   "cell_type": "code",
   "execution_count": 261,
   "id": "b1ef811a",
   "metadata": {},
   "outputs": [],
   "source": [
    "data = r'C:\\Users\\preya\\Downloads\\Telegram Desktop\\ChatExport_2021-06-27 (1)'\n",
    "file_paths = []\n",
    "#loop to get append file_paths \n",
    "for root, directories, files in os.walk(data):\n",
    "    for filename in files:\n",
    "        if \".html\" in filename:\n",
    "            # Join the two strings in order to form the full filepath.\n",
    "            filepath = os.path.join(root, filename)\n",
    "            #to append\n",
    "            file_paths.append(filepath)"
   ]
  },
  {
   "cell_type": "code",
   "execution_count": 262,
   "id": "fa1eb285",
   "metadata": {},
   "outputs": [
    {
     "name": "stdout",
     "output_type": "stream",
     "text": [
      "4500\n"
     ]
    }
   ],
   "source": [
    "messages = []\n",
    "for file in file_paths:    \n",
    "    soup = BeautifulSoup(codecs.open(file, 'r', \"utf-8\").read())\n",
    "    messages.extend(soup.findAll('div', attrs={'class':'message default clearfix'}))\n",
    "    messages.extend(soup.findAll('div', attrs={'class':'message default clearfix joined'}))\n",
    "    \n",
    "print(len(contents))"
   ]
  },
  {
   "cell_type": "code",
   "execution_count": 263,
   "id": "f54d2877",
   "metadata": {},
   "outputs": [],
   "source": [
    "current_ids, previous_ids, message_texts,message_statuses = [],[],[],[]\n",
    "\n",
    "for meg in messages:\n",
    "    current_id = meg.get(\"id\")[7:]\n",
    "    current_id = int(current_id)\n",
    "    \n",
    "    try:\n",
    "        previous_id = meg.find(\"div\", {\"class\":\"reply_to details\"}).a.get(\"href\")[14:]\n",
    "        previous_id = int(previous_id)\n",
    "    except:\n",
    "        previous_id = 0\n",
    "    \n",
    "    try:\n",
    "        message_text = meg.find(\"div\", {\"class\":\"description\"})\n",
    "        message_text = message_text.text.strip()\n",
    "    except:\n",
    "        try:\n",
    "            message_text = meg.find(\"div\", {\"class\":\"text\"})\n",
    "            message_text = message_text.text.strip()\n",
    "        except:\n",
    "            continue\n",
    "    \n",
    "    try:\n",
    "        message_status = meg.find(\"div\", {\"class\":\"status details\"})\n",
    "        message_status = message_status.text.strip().split(\",\")[0]\n",
    "    except:\n",
    "        message_status = None\n",
    "    \n",
    "    if \"Not included, change data exporting settings to download.\" not in message_text and \"/\" not in message_text and \"Try command /\" not in message_text:\n",
    "        current_ids.append(current_id)\n",
    "        previous_ids.append(previous_id)\n",
    "        message_texts.append(message_text)\n",
    "        message_statuses.append(message_status)"
   ]
  },
  {
   "cell_type": "code",
   "execution_count": 264,
   "id": "034bd241",
   "metadata": {},
   "outputs": [],
   "source": [
    "dataset = pd.DataFrame({\n",
    "    \"current_id\":current_ids,\n",
    "    \"previous_id\":previous_ids,\n",
    "    \"message_text\":message_texts,\n",
    "    \"message_status\":message_statuses\n",
    "    })"
   ]
  },
  {
   "cell_type": "code",
   "execution_count": 265,
   "id": "178ef8c5",
   "metadata": {},
   "outputs": [
    {
     "data": {
      "text/plain": [
       "current_id             0\n",
       "previous_id            0\n",
       "message_text           0\n",
       "message_status    413818\n",
       "dtype: int64"
      ]
     },
     "execution_count": 265,
     "metadata": {},
     "output_type": "execute_result"
    }
   ],
   "source": [
    "np.sum(dataset.isnull())"
   ]
  },
  {
   "cell_type": "code",
   "execution_count": 266,
   "id": "f970c361",
   "metadata": {},
   "outputs": [],
   "source": [
    "def readPreviousMain(currentID):\n",
    "    pm = dataset[dataset[\"previous_id\"] == currentID].iloc[:,2].values\n",
    "    pm = str(pm)\n",
    "\n",
    "    cm = dataset[dataset[\"current_id\"] == currentID].iloc[:,2].values\n",
    "    cm = str(cm)\n",
    "\n",
    "    print(\"Previous Message: \", pm)\n",
    "    print(\"Current Message: \", cm)"
   ]
  },
  {
   "cell_type": "code",
   "execution_count": 267,
   "id": "f2055d71",
   "metadata": {},
   "outputs": [
    {
     "name": "stdout",
     "output_type": "stream",
     "text": [
      "Previous Message:  []\n",
      "Current Message:  ['I m also free You got free from ?']\n"
     ]
    }
   ],
   "source": [
    "readPreviousMain(5500021)"
   ]
  },
  {
   "cell_type": "code",
   "execution_count": 303,
   "id": "1bce7d24",
   "metadata": {},
   "outputs": [
    {
     "name": "stdout",
     "output_type": "stream",
     "text": [
      "Previous Message:  []\n",
      "Current Message:  ['Hi']\n"
     ]
    }
   ],
   "source": [
    "readPreviousMain(5500036)"
   ]
  },
  {
   "cell_type": "code",
   "execution_count": 304,
   "id": "00c6cfdd",
   "metadata": {},
   "outputs": [
    {
     "name": "stdout",
     "output_type": "stream",
     "text": [
      "Previous Message:  ['Chhii Omg']\n",
      "Current Message:  ['Vo to funny hai sirf 😂🙈👀']\n"
     ]
    }
   ],
   "source": [
    "readPreviousMain(5500023)"
   ]
  },
  {
   "cell_type": "code",
   "execution_count": 270,
   "id": "4dcecf4a",
   "metadata": {},
   "outputs": [
    {
     "data": {
      "text/html": [
       "<div>\n",
       "<style scoped>\n",
       "    .dataframe tbody tr th:only-of-type {\n",
       "        vertical-align: middle;\n",
       "    }\n",
       "\n",
       "    .dataframe tbody tr th {\n",
       "        vertical-align: top;\n",
       "    }\n",
       "\n",
       "    .dataframe thead th {\n",
       "        text-align: right;\n",
       "    }\n",
       "</style>\n",
       "<table border=\"1\" class=\"dataframe\">\n",
       "  <thead>\n",
       "    <tr style=\"text-align: right;\">\n",
       "      <th></th>\n",
       "      <th>current_id</th>\n",
       "      <th>previous_id</th>\n",
       "      <th>message_text</th>\n",
       "      <th>message_status</th>\n",
       "    </tr>\n",
       "  </thead>\n",
       "  <tbody>\n",
       "    <tr>\n",
       "      <th>0</th>\n",
       "      <td>5500016</td>\n",
       "      <td>5491000</td>\n",
       "      <td>😂</td>\n",
       "      <td>None</td>\n",
       "    </tr>\n",
       "    <tr>\n",
       "      <th>1</th>\n",
       "      <td>5500021</td>\n",
       "      <td>5500000</td>\n",
       "      <td>I m also free You got free from ?</td>\n",
       "      <td>None</td>\n",
       "    </tr>\n",
       "    <tr>\n",
       "      <th>2</th>\n",
       "      <td>5500023</td>\n",
       "      <td>5500006</td>\n",
       "      <td>Vo to funny hai sirf 😂🙈👀</td>\n",
       "      <td>None</td>\n",
       "    </tr>\n",
       "    <tr>\n",
       "      <th>3</th>\n",
       "      <td>5500031</td>\n",
       "      <td>5494639</td>\n",
       "      <td>शुक्रिया</td>\n",
       "      <td>None</td>\n",
       "    </tr>\n",
       "    <tr>\n",
       "      <th>4</th>\n",
       "      <td>5500036</td>\n",
       "      <td>5499996</td>\n",
       "      <td>Hi</td>\n",
       "      <td>None</td>\n",
       "    </tr>\n",
       "    <tr>\n",
       "      <th>...</th>\n",
       "      <td>...</td>\n",
       "      <td>...</td>\n",
       "      <td>...</td>\n",
       "      <td>...</td>\n",
       "    </tr>\n",
       "    <tr>\n",
       "      <th>413828</th>\n",
       "      <td>5688350</td>\n",
       "      <td>0</td>\n",
       "      <td>Wbu?</td>\n",
       "      <td>None</td>\n",
       "    </tr>\n",
       "    <tr>\n",
       "      <th>413829</th>\n",
       "      <td>5688385</td>\n",
       "      <td>0</td>\n",
       "      <td>Koi hamse bhi baate Kar lo</td>\n",
       "      <td>None</td>\n",
       "    </tr>\n",
       "    <tr>\n",
       "      <th>413830</th>\n",
       "      <td>5688388</td>\n",
       "      <td>0</td>\n",
       "      <td>😂😂</td>\n",
       "      <td>None</td>\n",
       "    </tr>\n",
       "    <tr>\n",
       "      <th>413831</th>\n",
       "      <td>5688527</td>\n",
       "      <td>0</td>\n",
       "      <td>??</td>\n",
       "      <td>None</td>\n",
       "    </tr>\n",
       "    <tr>\n",
       "      <th>413832</th>\n",
       "      <td>5688654</td>\n",
       "      <td>5688619</td>\n",
       "      <td>Why😐✨</td>\n",
       "      <td>None</td>\n",
       "    </tr>\n",
       "  </tbody>\n",
       "</table>\n",
       "<p>413833 rows × 4 columns</p>\n",
       "</div>"
      ],
      "text/plain": [
       "        current_id  previous_id                       message_text  \\\n",
       "0          5500016      5491000                                  😂   \n",
       "1          5500021      5500000  I m also free You got free from ?   \n",
       "2          5500023      5500006           Vo to funny hai sirf 😂🙈👀   \n",
       "3          5500031      5494639                           शुक्रिया   \n",
       "4          5500036      5499996                                 Hi   \n",
       "...            ...          ...                                ...   \n",
       "413828     5688350            0                               Wbu?   \n",
       "413829     5688385            0         Koi hamse bhi baate Kar lo   \n",
       "413830     5688388            0                                 😂😂   \n",
       "413831     5688527            0                                 ??   \n",
       "413832     5688654      5688619                              Why😐✨   \n",
       "\n",
       "       message_status  \n",
       "0                None  \n",
       "1                None  \n",
       "2                None  \n",
       "3                None  \n",
       "4                None  \n",
       "...               ...  \n",
       "413828           None  \n",
       "413829           None  \n",
       "413830           None  \n",
       "413831           None  \n",
       "413832           None  \n",
       "\n",
       "[413833 rows x 4 columns]"
      ]
     },
     "execution_count": 270,
     "metadata": {},
     "output_type": "execute_result"
    }
   ],
   "source": [
    "dataset.to_csv(r'C:\\Users\\preya\\Downloads\\Telegram Desktop\\ChatExport_2021-06-27 (1)\\dataset.csv')"
   ]
  },
  {
   "cell_type": "code",
   "execution_count": 271,
   "id": "e96051d8",
   "metadata": {},
   "outputs": [],
   "source": [
    "dataset.to_csv(r'C:\\Users\\preya\\Downloads\\Telegram Desktop\\ChatExport_2021-06-27 (1)\\dataset.csv')"
   ]
  },
  {
   "cell_type": "code",
   "execution_count": 92,
   "id": "6b531000",
   "metadata": {},
   "outputs": [],
   "source": [
    "dataset = pd.read_csv(r\"C:\\Users\\preya\\Downloads\\Telegram Desktop\\ChatExport_2021-06-27 (1)\\dataset.csv\")\n",
    "dataset = dataset.iloc[:,1:]"
   ]
  },
  {
   "cell_type": "code",
   "execution_count": 93,
   "id": "be5dd4e1",
   "metadata": {},
   "outputs": [
    {
     "data": {
      "text/plain": [
       "159072"
      ]
     },
     "execution_count": 93,
     "metadata": {},
     "output_type": "execute_result"
    }
   ],
   "source": [
    "messages_set = list(set(dataset.message_text))\n",
    "exclude_text = [\"bet\", \"Level\", \"YOUR PROFILE Messages sent here\",\"LEADERBOARD\",\"Local\",\"City | Informations\",\"Статистика пользователя\" , \"Report\", \"coinsOh no!\",\"Status | Informations of\" ,\"coins\", \"\\\\u\"]\n",
    "\n",
    "final_messages_set = []\n",
    "for i in messages_set:\n",
    "    valid = True\n",
    "    for j in exclude_text:\n",
    "        if j in i:\n",
    "            valid = False\n",
    "    if valid:\n",
    "        final_messages_set.append(i)\n",
    "        \n",
    "#removing only usernames\n",
    "final_messages_set = [i for i in final_messages_set if i[0] != \"@\" and len(i.split(\" \")) != 1]        \n",
    "len(final_messages_set)"
   ]
  },
  {
   "cell_type": "code",
   "execution_count": 197,
   "id": "f58401c7",
   "metadata": {},
   "outputs": [],
   "source": [
    "def readPreviousMain(currentID):\n",
    "    question = dataset[dataset[\"previous_id\"] == currentID]\n",
    "    question_str = str(question.message_text.values[0])\n",
    "    if question.message_status.isna().bool() == False:\n",
    "        question_str +=  \" \" + str(question.message_status.values[0])\n",
    "\n",
    "    ans = dataset[dataset[\"current_id\"] == currentID]\n",
    "    ans_str = str(ans.message_text.values[0])\n",
    "    if ans.message_status.isna().bool() == False:\n",
    "        ans_str += \" \" + str(ans.message_status.values[0])\n",
    "    \n",
    "    #print(\"Previous Message: \", question_str)\n",
    "    #print(\"Current Message: \", ans_str)\n",
    "    return question_str, ans_str"
   ]
  },
  {
   "cell_type": "code",
   "execution_count": null,
   "id": "0d0d9c7b",
   "metadata": {},
   "outputs": [],
   "source": [
    "question_message_text = []\n",
    "ans_message_text = []\n",
    "for message in final_messages_set:\n",
    "    temp_dataset = dataset[dataset[\"message_text\"] == message]\n",
    "    try:\n",
    "        q, a = readPreviousMain(int(temp_dataset.current_id.values[0]))\n",
    "        question_message_text.append(q)\n",
    "        ans_message_text.append(a)\n",
    "    except:\n",
    "        pass"
   ]
  },
  {
   "cell_type": "code",
   "execution_count": null,
   "id": "6ea9cbfb",
   "metadata": {},
   "outputs": [],
   "source": [
    "output = pd.DataFrame({\n",
    "    \"question_message_text\": question_message_text,\n",
    "    \"ans_message_text\":ans_message_text\n",
    "})\n",
    "output.to_csv(r\"C:\\Users\\preya\\Downloads\\Telegram Desktop\\ChatExport_2021-06-27 (1)\\question_and_answer.csv\")"
   ]
  },
  {
   "cell_type": "code",
   "execution_count": null,
   "id": "f9f3fdeb",
   "metadata": {},
   "outputs": [],
   "source": [
    "len(question_message_text)"
   ]
  },
  {
   "cell_type": "markdown",
   "id": "de3e49f0",
   "metadata": {},
   "source": [
    "DilogFlow"
   ]
  },
  {
   "cell_type": "code",
   "execution_count": null,
   "id": "32e0e4d6",
   "metadata": {},
   "outputs": [],
   "source": [
    "def create_intent(project_id, display_name, training_phrases_parts, message_texts):\n",
    "    \"\"\"Create an intent of the given intent type.\"\"\"\n",
    "    from google.cloud import dialogflow\n",
    "\n",
    "    intents_client = dialogflow.IntentsClient()\n",
    "\n",
    "    parent = dialogflow.AgentsClient.agent_path(project_id)\n",
    "    training_phrases = []\n",
    "    for training_phrases_part in training_phrases_parts:\n",
    "        part = dialogflow.Intent.TrainingPhrase.Part(text=training_phrases_part)\n",
    "        # Here we create a new training phrase for each provided part.\n",
    "        training_phrase = dialogflow.Intent.TrainingPhrase(parts=[part])\n",
    "        training_phrases.append(training_phrase)\n",
    "\n",
    "    text = dialogflow.Intent.Message.Text(text=message_texts)\n",
    "    message = dialogflow.Intent.Message(text=text)\n",
    "\n",
    "    intent = dialogflow.Intent(\n",
    "        display_name=display_name, training_phrases=training_phrases, messages=[message]\n",
    "    )\n",
    "\n",
    "    response = intents_client.create_intent(\n",
    "        request={\"parent\": parent, \"intent\": intent}\n",
    "    )\n",
    "\n",
    "    print(\"Intent created: {}\".format(response))\n",
    "    \n",
    "\n",
    "os.environ[\"GOOGLE_APPLICATION_CREDENTIALS\"] = \"hindienglishchatbot-3d57939ede44.json\""
   ]
  },
  {
   "cell_type": "code",
   "execution_count": null,
   "id": "84ba72d0",
   "metadata": {},
   "outputs": [],
   "source": [
    "question_ans = pd.read_csv(r\"C:\\Users\\preya\\Downloads\\Telegram Desktop\\ChatExport_2021-06-27 (1)\\question_and_answer.csv\")\n",
    "question_ans = question_ans.iloc[:,1:]\n",
    "question_ans"
   ]
  },
  {
   "cell_type": "code",
   "execution_count": null,
   "id": "7dd16b22",
   "metadata": {},
   "outputs": [],
   "source": [
    "question_ans.iloc[i,0]"
   ]
  },
  {
   "cell_type": "code",
   "execution_count": null,
   "id": "ece7520b",
   "metadata": {},
   "outputs": [],
   "source": [
    "question_ans.iloc[i,0].values"
   ]
  },
  {
   "cell_type": "code",
   "execution_count": null,
   "id": "d4ab535f",
   "metadata": {},
   "outputs": [],
   "source": []
  },
  {
   "cell_type": "code",
   "execution_count": null,
   "id": "965d7452",
   "metadata": {},
   "outputs": [],
   "source": []
  },
  {
   "cell_type": "code",
   "execution_count": 291,
   "id": "54c3f759",
   "metadata": {},
   "outputs": [
    {
     "ename": "InvalidArgument",
     "evalue": "400 com.google.apps.framework.request.BadRequestException: Intent with the display name 'age' already exists.",
     "output_type": "error",
     "traceback": [
      "\u001b[1;31m---------------------------------------------------------------------------\u001b[0m",
      "\u001b[1;31m_InactiveRpcError\u001b[0m                         Traceback (most recent call last)",
      "\u001b[1;32mC:\\ProgramData\\Anaconda3\\lib\\site-packages\\google\\api_core\\grpc_helpers.py\u001b[0m in \u001b[0;36merror_remapped_callable\u001b[1;34m(*args, **kwargs)\u001b[0m\n\u001b[0;32m     66\u001b[0m         \u001b[1;32mtry\u001b[0m\u001b[1;33m:\u001b[0m\u001b[1;33m\u001b[0m\u001b[1;33m\u001b[0m\u001b[0m\n\u001b[1;32m---> 67\u001b[1;33m             \u001b[1;32mreturn\u001b[0m \u001b[0mcallable_\u001b[0m\u001b[1;33m(\u001b[0m\u001b[1;33m*\u001b[0m\u001b[0margs\u001b[0m\u001b[1;33m,\u001b[0m \u001b[1;33m**\u001b[0m\u001b[0mkwargs\u001b[0m\u001b[1;33m)\u001b[0m\u001b[1;33m\u001b[0m\u001b[1;33m\u001b[0m\u001b[0m\n\u001b[0m\u001b[0;32m     68\u001b[0m         \u001b[1;32mexcept\u001b[0m \u001b[0mgrpc\u001b[0m\u001b[1;33m.\u001b[0m\u001b[0mRpcError\u001b[0m \u001b[1;32mas\u001b[0m \u001b[0mexc\u001b[0m\u001b[1;33m:\u001b[0m\u001b[1;33m\u001b[0m\u001b[1;33m\u001b[0m\u001b[0m\n",
      "\u001b[1;32mC:\\ProgramData\\Anaconda3\\lib\\site-packages\\grpc\\_channel.py\u001b[0m in \u001b[0;36m__call__\u001b[1;34m(self, request, timeout, metadata, credentials, wait_for_ready, compression)\u001b[0m\n\u001b[0;32m    945\u001b[0m                                       wait_for_ready, compression)\n\u001b[1;32m--> 946\u001b[1;33m         \u001b[1;32mreturn\u001b[0m \u001b[0m_end_unary_response_blocking\u001b[0m\u001b[1;33m(\u001b[0m\u001b[0mstate\u001b[0m\u001b[1;33m,\u001b[0m \u001b[0mcall\u001b[0m\u001b[1;33m,\u001b[0m \u001b[1;32mFalse\u001b[0m\u001b[1;33m,\u001b[0m \u001b[1;32mNone\u001b[0m\u001b[1;33m)\u001b[0m\u001b[1;33m\u001b[0m\u001b[1;33m\u001b[0m\u001b[0m\n\u001b[0m\u001b[0;32m    947\u001b[0m \u001b[1;33m\u001b[0m\u001b[0m\n",
      "\u001b[1;32mC:\\ProgramData\\Anaconda3\\lib\\site-packages\\grpc\\_channel.py\u001b[0m in \u001b[0;36m_end_unary_response_blocking\u001b[1;34m(state, call, with_call, deadline)\u001b[0m\n\u001b[0;32m    848\u001b[0m     \u001b[1;32melse\u001b[0m\u001b[1;33m:\u001b[0m\u001b[1;33m\u001b[0m\u001b[1;33m\u001b[0m\u001b[0m\n\u001b[1;32m--> 849\u001b[1;33m         \u001b[1;32mraise\u001b[0m \u001b[0m_InactiveRpcError\u001b[0m\u001b[1;33m(\u001b[0m\u001b[0mstate\u001b[0m\u001b[1;33m)\u001b[0m\u001b[1;33m\u001b[0m\u001b[1;33m\u001b[0m\u001b[0m\n\u001b[0m\u001b[0;32m    850\u001b[0m \u001b[1;33m\u001b[0m\u001b[0m\n",
      "\u001b[1;31m_InactiveRpcError\u001b[0m: <_InactiveRpcError of RPC that terminated with:\n\tstatus = StatusCode.INVALID_ARGUMENT\n\tdetails = \"com.google.apps.framework.request.BadRequestException: Intent with the display name 'age' already exists.\"\n\tdebug_error_string = \"{\"created\":\"@1625118961.599000000\",\"description\":\"Error received from peer ipv6:[2404:6800:4009:80d::200a]:443\",\"file\":\"src/core/lib/surface/call.cc\",\"file_line\":1067,\"grpc_message\":\"com.google.apps.framework.request.BadRequestException: Intent with the display name 'age' already exists.\",\"grpc_status\":3}\"\n>",
      "\nThe above exception was the direct cause of the following exception:\n",
      "\u001b[1;31mInvalidArgument\u001b[0m                           Traceback (most recent call last)",
      "\u001b[1;32m<ipython-input-291-d2a9a8cdcf42>\u001b[0m in \u001b[0;36m<module>\u001b[1;34m\u001b[0m\n\u001b[0;32m      1\u001b[0m \u001b[0mtraining_phrases_parts\u001b[0m \u001b[1;33m=\u001b[0m \u001b[1;33m[\u001b[0m\u001b[1;34m\"what is your age?\"\u001b[0m\u001b[1;33m,\u001b[0m \u001b[1;34m\"your age?\"\u001b[0m\u001b[1;33m,\u001b[0m \u001b[1;34m\"how old are you?\"\u001b[0m\u001b[1;33m]\u001b[0m\u001b[1;33m\u001b[0m\u001b[1;33m\u001b[0m\u001b[0m\n\u001b[0;32m      2\u001b[0m \u001b[0mmessage_texts\u001b[0m \u001b[1;33m=\u001b[0m \u001b[1;33m[\u001b[0m\u001b[1;34m\"I am 22 year old\"\u001b[0m\u001b[1;33m,\u001b[0m \u001b[1;34m\"22 year\"\u001b[0m\u001b[1;33m,\u001b[0m \u001b[1;34m\"i am 22\"\u001b[0m\u001b[1;33m]\u001b[0m\u001b[1;33m\u001b[0m\u001b[1;33m\u001b[0m\u001b[0m\n\u001b[1;32m----> 3\u001b[1;33m create_intent(\n\u001b[0m\u001b[0;32m      4\u001b[0m     \u001b[0mproject_id\u001b[0m\u001b[1;33m=\u001b[0m\u001b[1;34m\"hindienglishchatbot\"\u001b[0m\u001b[1;33m,\u001b[0m\u001b[1;33m\u001b[0m\u001b[1;33m\u001b[0m\u001b[0m\n\u001b[0;32m      5\u001b[0m     \u001b[0mdisplay_name\u001b[0m\u001b[1;33m=\u001b[0m\u001b[1;34m\"age\"\u001b[0m\u001b[1;33m,\u001b[0m\u001b[1;33m\u001b[0m\u001b[1;33m\u001b[0m\u001b[0m\n",
      "\u001b[1;32m<ipython-input-290-727909ef270c>\u001b[0m in \u001b[0;36mcreate_intent\u001b[1;34m(project_id, display_name, training_phrases_parts, message_texts)\u001b[0m\n\u001b[0;32m     20\u001b[0m     )\n\u001b[0;32m     21\u001b[0m \u001b[1;33m\u001b[0m\u001b[0m\n\u001b[1;32m---> 22\u001b[1;33m     response = intents_client.create_intent(\n\u001b[0m\u001b[0;32m     23\u001b[0m         \u001b[0mrequest\u001b[0m\u001b[1;33m=\u001b[0m\u001b[1;33m{\u001b[0m\u001b[1;34m\"parent\"\u001b[0m\u001b[1;33m:\u001b[0m \u001b[0mparent\u001b[0m\u001b[1;33m,\u001b[0m \u001b[1;34m\"intent\"\u001b[0m\u001b[1;33m:\u001b[0m \u001b[0mintent\u001b[0m\u001b[1;33m}\u001b[0m\u001b[1;33m\u001b[0m\u001b[1;33m\u001b[0m\u001b[0m\n\u001b[0;32m     24\u001b[0m     )\n",
      "\u001b[1;32mC:\\ProgramData\\Anaconda3\\lib\\site-packages\\google\\cloud\\dialogflow_v2\\services\\intents\\client.py\u001b[0m in \u001b[0;36mcreate_intent\u001b[1;34m(self, request, parent, intent, language_code, retry, timeout, metadata)\u001b[0m\n\u001b[0;32m    657\u001b[0m \u001b[1;33m\u001b[0m\u001b[0m\n\u001b[0;32m    658\u001b[0m         \u001b[1;31m# Send the request.\u001b[0m\u001b[1;33m\u001b[0m\u001b[1;33m\u001b[0m\u001b[1;33m\u001b[0m\u001b[0m\n\u001b[1;32m--> 659\u001b[1;33m         \u001b[0mresponse\u001b[0m \u001b[1;33m=\u001b[0m \u001b[0mrpc\u001b[0m\u001b[1;33m(\u001b[0m\u001b[0mrequest\u001b[0m\u001b[1;33m,\u001b[0m \u001b[0mretry\u001b[0m\u001b[1;33m=\u001b[0m\u001b[0mretry\u001b[0m\u001b[1;33m,\u001b[0m \u001b[0mtimeout\u001b[0m\u001b[1;33m=\u001b[0m\u001b[0mtimeout\u001b[0m\u001b[1;33m,\u001b[0m \u001b[0mmetadata\u001b[0m\u001b[1;33m=\u001b[0m\u001b[0mmetadata\u001b[0m\u001b[1;33m,\u001b[0m\u001b[1;33m)\u001b[0m\u001b[1;33m\u001b[0m\u001b[1;33m\u001b[0m\u001b[0m\n\u001b[0m\u001b[0;32m    660\u001b[0m \u001b[1;33m\u001b[0m\u001b[0m\n\u001b[0;32m    661\u001b[0m         \u001b[1;31m# Done; return the response.\u001b[0m\u001b[1;33m\u001b[0m\u001b[1;33m\u001b[0m\u001b[1;33m\u001b[0m\u001b[0m\n",
      "\u001b[1;32mC:\\ProgramData\\Anaconda3\\lib\\site-packages\\google\\api_core\\gapic_v1\\method.py\u001b[0m in \u001b[0;36m__call__\u001b[1;34m(self, *args, **kwargs)\u001b[0m\n\u001b[0;32m    143\u001b[0m             \u001b[0mkwargs\u001b[0m\u001b[1;33m[\u001b[0m\u001b[1;34m\"metadata\"\u001b[0m\u001b[1;33m]\u001b[0m \u001b[1;33m=\u001b[0m \u001b[0mmetadata\u001b[0m\u001b[1;33m\u001b[0m\u001b[1;33m\u001b[0m\u001b[0m\n\u001b[0;32m    144\u001b[0m \u001b[1;33m\u001b[0m\u001b[0m\n\u001b[1;32m--> 145\u001b[1;33m         \u001b[1;32mreturn\u001b[0m \u001b[0mwrapped_func\u001b[0m\u001b[1;33m(\u001b[0m\u001b[1;33m*\u001b[0m\u001b[0margs\u001b[0m\u001b[1;33m,\u001b[0m \u001b[1;33m**\u001b[0m\u001b[0mkwargs\u001b[0m\u001b[1;33m)\u001b[0m\u001b[1;33m\u001b[0m\u001b[1;33m\u001b[0m\u001b[0m\n\u001b[0m\u001b[0;32m    146\u001b[0m \u001b[1;33m\u001b[0m\u001b[0m\n\u001b[0;32m    147\u001b[0m \u001b[1;33m\u001b[0m\u001b[0m\n",
      "\u001b[1;32mC:\\ProgramData\\Anaconda3\\lib\\site-packages\\google\\api_core\\grpc_helpers.py\u001b[0m in \u001b[0;36merror_remapped_callable\u001b[1;34m(*args, **kwargs)\u001b[0m\n\u001b[0;32m     67\u001b[0m             \u001b[1;32mreturn\u001b[0m \u001b[0mcallable_\u001b[0m\u001b[1;33m(\u001b[0m\u001b[1;33m*\u001b[0m\u001b[0margs\u001b[0m\u001b[1;33m,\u001b[0m \u001b[1;33m**\u001b[0m\u001b[0mkwargs\u001b[0m\u001b[1;33m)\u001b[0m\u001b[1;33m\u001b[0m\u001b[1;33m\u001b[0m\u001b[0m\n\u001b[0;32m     68\u001b[0m         \u001b[1;32mexcept\u001b[0m \u001b[0mgrpc\u001b[0m\u001b[1;33m.\u001b[0m\u001b[0mRpcError\u001b[0m \u001b[1;32mas\u001b[0m \u001b[0mexc\u001b[0m\u001b[1;33m:\u001b[0m\u001b[1;33m\u001b[0m\u001b[1;33m\u001b[0m\u001b[0m\n\u001b[1;32m---> 69\u001b[1;33m             \u001b[0msix\u001b[0m\u001b[1;33m.\u001b[0m\u001b[0mraise_from\u001b[0m\u001b[1;33m(\u001b[0m\u001b[0mexceptions\u001b[0m\u001b[1;33m.\u001b[0m\u001b[0mfrom_grpc_error\u001b[0m\u001b[1;33m(\u001b[0m\u001b[0mexc\u001b[0m\u001b[1;33m)\u001b[0m\u001b[1;33m,\u001b[0m \u001b[0mexc\u001b[0m\u001b[1;33m)\u001b[0m\u001b[1;33m\u001b[0m\u001b[1;33m\u001b[0m\u001b[0m\n\u001b[0m\u001b[0;32m     70\u001b[0m \u001b[1;33m\u001b[0m\u001b[0m\n\u001b[0;32m     71\u001b[0m     \u001b[1;32mreturn\u001b[0m \u001b[0merror_remapped_callable\u001b[0m\u001b[1;33m\u001b[0m\u001b[1;33m\u001b[0m\u001b[0m\n",
      "\u001b[1;32mC:\\ProgramData\\Anaconda3\\lib\\site-packages\\six.py\u001b[0m in \u001b[0;36mraise_from\u001b[1;34m(value, from_value)\u001b[0m\n",
      "\u001b[1;31mInvalidArgument\u001b[0m: 400 com.google.apps.framework.request.BadRequestException: Intent with the display name 'age' already exists."
     ]
    }
   ],
   "source": [
    "for i in range(len(question_ans)):    \n",
    "    training_phrases_parts = question_ans.iloc[i,0]\n",
    "    message_texts = question_ans.iloc[i,1]\n",
    "    create_intent(\n",
    "        project_id=\"hindienglishchatbot\",\n",
    "        display_name=\"intent\" + str(i),\n",
    "        training_phrases_parts = training_phrases_parts,\n",
    "        message_texts = message_texts\n",
    "    )\n",
    "    time.sleep(random.randint(5,10))"
   ]
  },
  {
   "cell_type": "code",
   "execution_count": null,
   "id": "25eb1119",
   "metadata": {},
   "outputs": [],
   "source": []
  }
 ],
 "metadata": {
  "kernelspec": {
   "display_name": "Python 3",
   "language": "python",
   "name": "python3"
  },
  "language_info": {
   "codemirror_mode": {
    "name": "ipython",
    "version": 3
   },
   "file_extension": ".py",
   "mimetype": "text/x-python",
   "name": "python",
   "nbconvert_exporter": "python",
   "pygments_lexer": "ipython3",
   "version": "3.8.8"
  }
 },
 "nbformat": 4,
 "nbformat_minor": 5
}
